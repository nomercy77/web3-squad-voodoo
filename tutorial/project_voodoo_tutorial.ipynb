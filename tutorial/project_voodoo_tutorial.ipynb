{
  "cells": [
    {
      "cell_type": "markdown",
      "source": [
        "# Main"
      ],
      "metadata": {
        "id": "OmfT--PVeAUK"
      }
    },
    {
      "cell_type": "code",
      "source": [
        "## Base Library\n",
        "!pip install inferactively-pymdp"
      ],
      "metadata": {
        "colab": {
          "base_uri": "https://localhost:8080/",
          "height": 1000
        },
        "id": "0TjkYzM1eBvd",
        "outputId": "66f6521f-a4ad-4f39-e9ff-2580309e088a"
      },
      "execution_count": 1,
      "outputs": [
        {
          "output_type": "stream",
          "name": "stdout",
          "text": [
            "Looking in indexes: https://pypi.org/simple, https://us-python.pkg.dev/colab-wheels/public/simple/\n",
            "Collecting inferactively-pymdp\n",
            "  Downloading inferactively_pymdp-0.0.6-py3-none-any.whl (51 kB)\n",
            "\u001b[K     |████████████████████████████████| 51 kB 304 kB/s \n",
            "\u001b[?25hRequirement already satisfied: kiwisolver>=1.3.1 in /usr/local/lib/python3.7/dist-packages (from inferactively-pymdp) (1.4.4)\n",
            "Requirement already satisfied: cycler>=0.10.0 in /usr/local/lib/python3.7/dist-packages (from inferactively-pymdp) (0.11.0)\n",
            "Requirement already satisfied: numpy>=1.19.5 in /usr/local/lib/python3.7/dist-packages (from inferactively-pymdp) (1.21.6)\n",
            "Requirement already satisfied: openpyxl>=3.0.7 in /usr/local/lib/python3.7/dist-packages (from inferactively-pymdp) (3.0.10)\n",
            "Requirement already satisfied: toml>=0.10.2 in /usr/local/lib/python3.7/dist-packages (from inferactively-pymdp) (0.10.2)\n",
            "Requirement already satisfied: py>=1.10.0 in /usr/local/lib/python3.7/dist-packages (from inferactively-pymdp) (1.11.0)\n",
            "Requirement already satisfied: packaging>=20.8 in /usr/local/lib/python3.7/dist-packages (from inferactively-pymdp) (21.3)\n",
            "Requirement already satisfied: pytz>=2020.5 in /usr/local/lib/python3.7/dist-packages (from inferactively-pymdp) (2022.2.1)\n",
            "Requirement already satisfied: seaborn>=0.11.1 in /usr/local/lib/python3.7/dist-packages (from inferactively-pymdp) (0.11.2)\n",
            "Requirement already satisfied: python-dateutil>=2.8.1 in /usr/local/lib/python3.7/dist-packages (from inferactively-pymdp) (2.8.2)\n",
            "Collecting iniconfig>=1.1.1\n",
            "  Downloading iniconfig-1.1.1-py2.py3-none-any.whl (5.0 kB)\n",
            "Requirement already satisfied: attrs>=20.3.0 in /usr/local/lib/python3.7/dist-packages (from inferactively-pymdp) (22.1.0)\n",
            "Requirement already satisfied: matplotlib>=3.1.3 in /usr/local/lib/python3.7/dist-packages (from inferactively-pymdp) (3.2.2)\n",
            "Collecting xlsxwriter>=1.4.3\n",
            "  Downloading XlsxWriter-3.0.3-py3-none-any.whl (149 kB)\n",
            "\u001b[K     |████████████████████████████████| 149 kB 16.2 MB/s \n",
            "\u001b[?25hRequirement already satisfied: autograd>=1.3 in /usr/local/lib/python3.7/dist-packages (from inferactively-pymdp) (1.4)\n",
            "Requirement already satisfied: pandas>=1.2.4 in /usr/local/lib/python3.7/dist-packages (from inferactively-pymdp) (1.3.5)\n",
            "Requirement already satisfied: pyparsing>=2.4.7 in /usr/local/lib/python3.7/dist-packages (from inferactively-pymdp) (3.0.9)\n",
            "Collecting Pillow>=8.2.0pluggy>=0.13.1\n",
            "  Downloading Pillow-9.2.0-cp37-cp37m-manylinux_2_17_x86_64.manylinux2014_x86_64.whl (3.1 MB)\n",
            "\u001b[K     |████████████████████████████████| 3.1 MB 52.1 MB/s \n",
            "\u001b[?25hCollecting sphinx-rtd-theme>=0.4\n",
            "  Downloading sphinx_rtd_theme-1.0.0-py2.py3-none-any.whl (2.8 MB)\n",
            "\u001b[K     |████████████████████████████████| 2.8 MB 37.6 MB/s \n",
            "\u001b[?25hCollecting nose>=1.3.7\n",
            "  Downloading nose-1.3.7-py3-none-any.whl (154 kB)\n",
            "\u001b[K     |████████████████████████████████| 154 kB 60.0 MB/s \n",
            "\u001b[?25hRequirement already satisfied: typing-extensions>=3.7.4.3 in /usr/local/lib/python3.7/dist-packages (from inferactively-pymdp) (4.1.1)\n",
            "Requirement already satisfied: six>=1.15.0 in /usr/local/lib/python3.7/dist-packages (from inferactively-pymdp) (1.15.0)\n",
            "Collecting myst-nb>=0.13.1\n",
            "  Downloading myst_nb-0.16.0-py3-none-any.whl (76 kB)\n",
            "\u001b[K     |████████████████████████████████| 76 kB 3.6 MB/s \n",
            "\u001b[?25hCollecting pytest>=6.2.1\n",
            "  Downloading pytest-7.1.3-py3-none-any.whl (298 kB)\n",
            "\u001b[K     |████████████████████████████████| 298 kB 72.4 MB/s \n",
            "\u001b[?25hRequirement already satisfied: scipy>=1.6.0 in /usr/local/lib/python3.7/dist-packages (from inferactively-pymdp) (1.7.3)\n",
            "Requirement already satisfied: future>=0.15.2 in /usr/local/lib/python3.7/dist-packages (from autograd>=1.3->inferactively-pymdp) (0.16.0)\n",
            "Requirement already satisfied: pyyaml in /usr/local/lib/python3.7/dist-packages (from myst-nb>=0.13.1->inferactively-pymdp) (6.0)\n",
            "Collecting jupyter-cache~=0.5.0\n",
            "  Downloading jupyter_cache-0.5.0-py3-none-any.whl (34 kB)\n",
            "Collecting myst-parser~=0.18.0\n",
            "  Downloading myst_parser-0.18.0-py3-none-any.whl (57 kB)\n",
            "\u001b[K     |████████████████████████████████| 57 kB 4.8 MB/s \n",
            "\u001b[?25hCollecting sphinx-togglebutton~=0.3.0\n",
            "  Downloading sphinx_togglebutton-0.3.2-py3-none-any.whl (8.2 kB)\n",
            "Requirement already satisfied: ipykernel in /usr/local/lib/python3.7/dist-packages (from myst-nb>=0.13.1->inferactively-pymdp) (5.3.4)\n",
            "Collecting nbclient\n",
            "  Downloading nbclient-0.6.8-py3-none-any.whl (71 kB)\n",
            "\u001b[K     |████████████████████████████████| 71 kB 155 kB/s \n",
            "\u001b[?25hCollecting sphinx<6,>=4\n",
            "  Downloading Sphinx-5.1.1-py3-none-any.whl (3.2 MB)\n",
            "\u001b[K     |████████████████████████████████| 3.2 MB 45.0 MB/s \n",
            "\u001b[?25hRequirement already satisfied: ipython in /usr/local/lib/python3.7/dist-packages (from myst-nb>=0.13.1->inferactively-pymdp) (7.9.0)\n",
            "Requirement already satisfied: importlib_metadata in /usr/local/lib/python3.7/dist-packages (from myst-nb>=0.13.1->inferactively-pymdp) (4.12.0)\n",
            "Requirement already satisfied: nbformat~=5.0 in /usr/local/lib/python3.7/dist-packages (from myst-nb>=0.13.1->inferactively-pymdp) (5.4.0)\n",
            "Requirement already satisfied: click in /usr/local/lib/python3.7/dist-packages (from jupyter-cache~=0.5.0->myst-nb>=0.13.1->inferactively-pymdp) (7.1.2)\n",
            "Requirement already satisfied: sqlalchemy<1.5,>=1.3.12 in /usr/local/lib/python3.7/dist-packages (from jupyter-cache~=0.5.0->myst-nb>=0.13.1->inferactively-pymdp) (1.4.40)\n",
            "Requirement already satisfied: tabulate in /usr/local/lib/python3.7/dist-packages (from jupyter-cache~=0.5.0->myst-nb>=0.13.1->inferactively-pymdp) (0.8.10)\n",
            "Collecting nbclient\n",
            "  Downloading nbclient-0.5.13-py3-none-any.whl (70 kB)\n",
            "\u001b[K     |████████████████████████████████| 70 kB 6.9 MB/s \n",
            "\u001b[?25hCollecting markdown-it-py<3.0.0,>=1.0.0\n",
            "  Downloading markdown_it_py-2.1.0-py3-none-any.whl (84 kB)\n",
            "\u001b[K     |████████████████████████████████| 84 kB 3.0 MB/s \n",
            "\u001b[?25hRequirement already satisfied: docutils<0.19,>=0.15 in /usr/local/lib/python3.7/dist-packages (from myst-parser~=0.18.0->myst-nb>=0.13.1->inferactively-pymdp) (0.17.1)\n",
            "Requirement already satisfied: jinja2 in /usr/local/lib/python3.7/dist-packages (from myst-parser~=0.18.0->myst-nb>=0.13.1->inferactively-pymdp) (2.11.3)\n",
            "Collecting mdit-py-plugins~=0.3.0\n",
            "  Downloading mdit_py_plugins-0.3.0-py3-none-any.whl (43 kB)\n",
            "\u001b[K     |████████████████████████████████| 43 kB 1.8 MB/s \n",
            "\u001b[?25hCollecting mdurl~=0.1\n",
            "  Downloading mdurl-0.1.2-py3-none-any.whl (10.0 kB)\n",
            "Requirement already satisfied: jupyter-client>=6.1.5 in /usr/local/lib/python3.7/dist-packages (from nbclient->myst-nb>=0.13.1->inferactively-pymdp) (6.1.12)\n",
            "Requirement already satisfied: traitlets>=5.0.0 in /usr/local/lib/python3.7/dist-packages (from nbclient->myst-nb>=0.13.1->inferactively-pymdp) (5.1.1)\n",
            "Collecting nest-asyncio\n",
            "  Downloading nest_asyncio-1.5.5-py3-none-any.whl (5.2 kB)\n",
            "Requirement already satisfied: jupyter-core>=4.6.0 in /usr/local/lib/python3.7/dist-packages (from jupyter-client>=6.1.5->nbclient->myst-nb>=0.13.1->inferactively-pymdp) (4.11.1)\n",
            "Requirement already satisfied: tornado>=4.1 in /usr/local/lib/python3.7/dist-packages (from jupyter-client>=6.1.5->nbclient->myst-nb>=0.13.1->inferactively-pymdp) (5.1.1)\n",
            "Requirement already satisfied: pyzmq>=13 in /usr/local/lib/python3.7/dist-packages (from jupyter-client>=6.1.5->nbclient->myst-nb>=0.13.1->inferactively-pymdp) (23.2.1)\n",
            "Requirement already satisfied: jsonschema>=2.6 in /usr/local/lib/python3.7/dist-packages (from nbformat~=5.0->myst-nb>=0.13.1->inferactively-pymdp) (4.3.3)\n",
            "Requirement already satisfied: fastjsonschema in /usr/local/lib/python3.7/dist-packages (from nbformat~=5.0->myst-nb>=0.13.1->inferactively-pymdp) (2.16.1)\n",
            "Requirement already satisfied: pyrsistent!=0.17.0,!=0.17.1,!=0.17.2,>=0.14.0 in /usr/local/lib/python3.7/dist-packages (from jsonschema>=2.6->nbformat~=5.0->myst-nb>=0.13.1->inferactively-pymdp) (0.18.1)\n",
            "Requirement already satisfied: importlib-resources>=1.4.0 in /usr/local/lib/python3.7/dist-packages (from jsonschema>=2.6->nbformat~=5.0->myst-nb>=0.13.1->inferactively-pymdp) (5.9.0)\n",
            "Requirement already satisfied: zipp>=3.1.0 in /usr/local/lib/python3.7/dist-packages (from importlib-resources>=1.4.0->jsonschema>=2.6->nbformat~=5.0->myst-nb>=0.13.1->inferactively-pymdp) (3.8.1)\n",
            "Requirement already satisfied: et-xmlfile in /usr/local/lib/python3.7/dist-packages (from openpyxl>=3.0.7->inferactively-pymdp) (1.1.0)\n",
            "Requirement already satisfied: tomli>=1.0.0 in /usr/local/lib/python3.7/dist-packages (from pytest>=6.2.1->inferactively-pymdp) (2.0.1)\n",
            "Collecting pluggy<2.0,>=0.12\n",
            "  Downloading pluggy-1.0.0-py2.py3-none-any.whl (13 kB)\n",
            "Requirement already satisfied: snowballstemmer>=1.1 in /usr/local/lib/python3.7/dist-packages (from sphinx<6,>=4->myst-nb>=0.13.1->inferactively-pymdp) (2.2.0)\n",
            "Collecting sphinxcontrib-devhelp\n",
            "  Downloading sphinxcontrib_devhelp-1.0.2-py2.py3-none-any.whl (84 kB)\n",
            "\u001b[K     |████████████████████████████████| 84 kB 3.2 MB/s \n",
            "\u001b[?25hCollecting sphinxcontrib-jsmath\n",
            "  Downloading sphinxcontrib_jsmath-1.0.1-py2.py3-none-any.whl (5.1 kB)\n",
            "Collecting sphinxcontrib-htmlhelp>=2.0.0\n",
            "  Downloading sphinxcontrib_htmlhelp-2.0.0-py2.py3-none-any.whl (100 kB)\n",
            "\u001b[K     |████████████████████████████████| 100 kB 7.4 MB/s \n",
            "\u001b[?25hRequirement already satisfied: requests>=2.5.0 in /usr/local/lib/python3.7/dist-packages (from sphinx<6,>=4->myst-nb>=0.13.1->inferactively-pymdp) (2.23.0)\n",
            "Collecting sphinxcontrib-applehelp\n",
            "  Downloading sphinxcontrib_applehelp-1.0.2-py2.py3-none-any.whl (121 kB)\n",
            "\u001b[K     |████████████████████████████████| 121 kB 53.6 MB/s \n",
            "\u001b[?25hRequirement already satisfied: babel>=1.3 in /usr/local/lib/python3.7/dist-packages (from sphinx<6,>=4->myst-nb>=0.13.1->inferactively-pymdp) (2.10.3)\n",
            "Requirement already satisfied: sphinxcontrib-serializinghtml>=1.1.5 in /usr/local/lib/python3.7/dist-packages (from sphinx<6,>=4->myst-nb>=0.13.1->inferactively-pymdp) (1.1.5)\n",
            "Collecting sphinxcontrib-qthelp\n",
            "  Downloading sphinxcontrib_qthelp-1.0.3-py2.py3-none-any.whl (90 kB)\n",
            "\u001b[K     |████████████████████████████████| 90 kB 7.6 MB/s \n",
            "\u001b[?25hRequirement already satisfied: Pygments>=2.0 in /usr/local/lib/python3.7/dist-packages (from sphinx<6,>=4->myst-nb>=0.13.1->inferactively-pymdp) (2.6.1)\n",
            "Requirement already satisfied: alabaster<0.8,>=0.7 in /usr/local/lib/python3.7/dist-packages (from sphinx<6,>=4->myst-nb>=0.13.1->inferactively-pymdp) (0.7.12)\n",
            "Requirement already satisfied: imagesize in /usr/local/lib/python3.7/dist-packages (from sphinx<6,>=4->myst-nb>=0.13.1->inferactively-pymdp) (1.4.1)\n",
            "Requirement already satisfied: MarkupSafe>=0.23 in /usr/local/lib/python3.7/dist-packages (from jinja2->myst-parser~=0.18.0->myst-nb>=0.13.1->inferactively-pymdp) (2.0.1)\n",
            "Requirement already satisfied: idna<3,>=2.5 in /usr/local/lib/python3.7/dist-packages (from requests>=2.5.0->sphinx<6,>=4->myst-nb>=0.13.1->inferactively-pymdp) (2.10)\n",
            "Requirement already satisfied: certifi>=2017.4.17 in /usr/local/lib/python3.7/dist-packages (from requests>=2.5.0->sphinx<6,>=4->myst-nb>=0.13.1->inferactively-pymdp) (2022.6.15)\n",
            "Requirement already satisfied: urllib3!=1.25.0,!=1.25.1,<1.26,>=1.21.1 in /usr/local/lib/python3.7/dist-packages (from requests>=2.5.0->sphinx<6,>=4->myst-nb>=0.13.1->inferactively-pymdp) (1.24.3)\n",
            "Requirement already satisfied: chardet<4,>=3.0.2 in /usr/local/lib/python3.7/dist-packages (from requests>=2.5.0->sphinx<6,>=4->myst-nb>=0.13.1->inferactively-pymdp) (3.0.4)\n",
            "Requirement already satisfied: wheel in /usr/local/lib/python3.7/dist-packages (from sphinx-togglebutton~=0.3.0->myst-nb>=0.13.1->inferactively-pymdp) (0.37.1)\n",
            "Requirement already satisfied: setuptools in /usr/local/lib/python3.7/dist-packages (from sphinx-togglebutton~=0.3.0->myst-nb>=0.13.1->inferactively-pymdp) (57.4.0)\n",
            "Requirement already satisfied: greenlet!=0.4.17 in /usr/local/lib/python3.7/dist-packages (from sqlalchemy<1.5,>=1.3.12->jupyter-cache~=0.5.0->myst-nb>=0.13.1->inferactively-pymdp) (1.1.3)\n",
            "Requirement already satisfied: prompt-toolkit<2.1.0,>=2.0.0 in /usr/local/lib/python3.7/dist-packages (from ipython->myst-nb>=0.13.1->inferactively-pymdp) (2.0.10)\n",
            "Requirement already satisfied: decorator in /usr/local/lib/python3.7/dist-packages (from ipython->myst-nb>=0.13.1->inferactively-pymdp) (4.4.2)\n",
            "Requirement already satisfied: pexpect in /usr/local/lib/python3.7/dist-packages (from ipython->myst-nb>=0.13.1->inferactively-pymdp) (4.8.0)\n",
            "Requirement already satisfied: backcall in /usr/local/lib/python3.7/dist-packages (from ipython->myst-nb>=0.13.1->inferactively-pymdp) (0.2.0)\n",
            "Requirement already satisfied: pickleshare in /usr/local/lib/python3.7/dist-packages (from ipython->myst-nb>=0.13.1->inferactively-pymdp) (0.7.5)\n",
            "Collecting jedi>=0.10\n",
            "  Downloading jedi-0.18.1-py2.py3-none-any.whl (1.6 MB)\n",
            "\u001b[K     |████████████████████████████████| 1.6 MB 41.8 MB/s \n",
            "\u001b[?25hRequirement already satisfied: parso<0.9.0,>=0.8.0 in /usr/local/lib/python3.7/dist-packages (from jedi>=0.10->ipython->myst-nb>=0.13.1->inferactively-pymdp) (0.8.3)\n",
            "Requirement already satisfied: wcwidth in /usr/local/lib/python3.7/dist-packages (from prompt-toolkit<2.1.0,>=2.0.0->ipython->myst-nb>=0.13.1->inferactively-pymdp) (0.2.5)\n",
            "Requirement already satisfied: ptyprocess>=0.5 in /usr/local/lib/python3.7/dist-packages (from pexpect->ipython->myst-nb>=0.13.1->inferactively-pymdp) (0.7.0)\n",
            "Installing collected packages: mdurl, sphinxcontrib-qthelp, sphinxcontrib-jsmath, sphinxcontrib-htmlhelp, sphinxcontrib-devhelp, sphinxcontrib-applehelp, nest-asyncio, markdown-it-py, jedi, sphinx, nbclient, mdit-py-plugins, sphinx-togglebutton, pluggy, myst-parser, jupyter-cache, iniconfig, xlsxwriter, sphinx-rtd-theme, pytest, Pillow, nose, myst-nb, inferactively-pymdp\n",
            "  Attempting uninstall: sphinx\n",
            "    Found existing installation: Sphinx 1.8.6\n",
            "    Uninstalling Sphinx-1.8.6:\n",
            "      Successfully uninstalled Sphinx-1.8.6\n",
            "  Attempting uninstall: pluggy\n",
            "    Found existing installation: pluggy 0.7.1\n",
            "    Uninstalling pluggy-0.7.1:\n",
            "      Successfully uninstalled pluggy-0.7.1\n",
            "  Attempting uninstall: pytest\n",
            "    Found existing installation: pytest 3.6.4\n",
            "    Uninstalling pytest-3.6.4:\n",
            "      Successfully uninstalled pytest-3.6.4\n",
            "  Attempting uninstall: Pillow\n",
            "    Found existing installation: Pillow 7.1.2\n",
            "    Uninstalling Pillow-7.1.2:\n",
            "      Successfully uninstalled Pillow-7.1.2\n",
            "Successfully installed Pillow-9.2.0 inferactively-pymdp-0.0.6 iniconfig-1.1.1 jedi-0.18.1 jupyter-cache-0.5.0 markdown-it-py-2.1.0 mdit-py-plugins-0.3.0 mdurl-0.1.2 myst-nb-0.16.0 myst-parser-0.18.0 nbclient-0.5.13 nest-asyncio-1.5.5 nose-1.3.7 pluggy-1.0.0 pytest-7.1.3 sphinx-5.1.1 sphinx-rtd-theme-1.0.0 sphinx-togglebutton-0.3.2 sphinxcontrib-applehelp-1.0.2 sphinxcontrib-devhelp-1.0.2 sphinxcontrib-htmlhelp-2.0.0 sphinxcontrib-jsmath-1.0.1 sphinxcontrib-qthelp-1.0.3 xlsxwriter-3.0.3\n"
          ]
        },
        {
          "output_type": "display_data",
          "data": {
            "application/vnd.colab-display-data+json": {
              "pip_warning": {
                "packages": [
                  "PIL",
                  "sphinxcontrib"
                ]
              }
            }
          },
          "metadata": {}
        }
      ]
    },
    {
      "cell_type": "code",
      "source": [
        "import numpy as np\n",
        "from pymdp import utils,maths\n",
        "import pandas as pd\n",
        "\n",
        "import matplotlib.pyplot as plt\n",
        "from IPython.display import display, Latex"
      ],
      "metadata": {
        "id": "EQG3dV8VeIIZ"
      },
      "execution_count": 2,
      "outputs": []
    },
    {
      "cell_type": "code",
      "source": [
        "## Input Data Format -> Project name,skills required & skills for people in DAO\n",
        "\n",
        "\n",
        "project = {\n",
        "    \"name\": \"Project voodoo\",\n",
        "    \n",
        "    # skills needed out of 5 stars\n",
        "    \"project_skills\":{\n",
        "        \"Python\": 4,\n",
        "        \"Cognitve modeling\": 4,\n",
        "        \"Statistics\":3,\n",
        "        \"Probability\":4,\n",
        "        \"Software packaging\": 3,\n",
        "        \"Research aptitude\": 5,\n",
        "        \"Machine learning\": 3\n",
        "    }\n",
        "}\n",
        "\n",
        "\n",
        "DAO_people = [\n",
        "    \n",
        "    {\n",
        "    \"name\": \"Aryan\",\n",
        "    # skills out of 5 stars\n",
        "    \"skills\":{\n",
        "        \"Python\": 2,\n",
        "        \"Software packaging\": 3,\n",
        "        \"Dev-Ops\":4,\n",
        "        \"Solidity\":4     \n",
        "      }\n",
        "    },\n",
        "\n",
        "    {\n",
        "    \"name\": \"Amit\",\n",
        "    \"skills\":{\n",
        "        \"Python\": 4,\n",
        "        \"Cognitve modeling\": 5,\n",
        "        \"Statistics\":5,\n",
        "        \"Probability\":4,\n",
        "        \"Software packaging\": 3,\n",
        "        \"Machine learning\": 4,\n",
        "        \"Open-source\":4,     \n",
        "        \"Research aptitude\": 5\n",
        "      }\n",
        "    },\n",
        "\n",
        "    {\n",
        "    \"name\": \"Tushar\",\n",
        "    # skills out of 5 stars\n",
        "    \"skills\":{\n",
        "        \"Python\": 5,\n",
        "        \"Backend overall\": 5,\n",
        "        \"Dev-Ops\":4,\n",
        "        \"Frontend overall\": 3,\n",
        "        \"React JS\": 3,\n",
        "        \"Pipeline automation\": 4,     \n",
        "        \"Software packaging\": 5\n",
        "      }\n",
        "    },\n",
        "\n",
        "    {\n",
        "    \"name\": \"Shashwat\",\n",
        "    \"skills\":{\n",
        "        \"Python\": 1,\n",
        "        \"Backend overall\": 1,\n",
        "        \"Frontend overall\": 4,\n",
        "        \"React JS\": 5,\n",
        "        \"UI\": 3,     \n",
        "        \"Software packaging\": 3\n",
        "      }\n",
        "    },\n",
        "\n",
        "    {\n",
        "    \"name\": \"Shashwat\",\n",
        "    \"skills\":{\n",
        "        \"Python\": 1,\n",
        "        \"Backend overall\": 1,\n",
        "        \"Frontend overall\": 4,\n",
        "        \"React JS\": 5,\n",
        "        \"UI\": 3,     \n",
        "        \"Software packaging\": 3\n",
        "      }\n",
        "    },\n",
        "\n",
        "    {\n",
        "    \"name\": \"Varun\",\n",
        "    \"skills\":{\n",
        "        \"Python\": 1,\n",
        "        \"Backend overall\": 2,\n",
        "        \"Frontend overall\": 3,\n",
        "        \"React JS\": 3,\n",
        "        \"Flutter\": 5,\n",
        "        \"UI\": 4,     \n",
        "        \"Software packaging\": 4,\n",
        "      }\n",
        "    },\n",
        "\n",
        "    {\n",
        "    \"name\": \"Dhruv\",\n",
        "    \"skills\":{\n",
        "        \"Python\": 2,\n",
        "        \"UI\": 5,\n",
        "        \"Design\":5,\n",
        "        \"Ops\":5,\n",
        "        \"Product management\": 5,\n",
        "        \"Machine learning\": 3  \n",
        "      }\n",
        "    },\n",
        "\n",
        "    {\n",
        "    \"name\": \"Devansh\",\n",
        "    \"skills\":{\n",
        "        \"Python\": 1,\n",
        "        \"UI\": 4,\n",
        "        \"Design\": 4,\n",
        "        \"Product management\": 5,\n",
        "        \"Solidity\": 3,\n",
        "        \"Systems design\": 4  \n",
        "      }\n",
        "    },\n",
        "\n",
        "    {\n",
        "    \"name\": \"Shikhar\",\n",
        "    \"skills\":{\n",
        "        \"Mechanical engineering\": 5,\n",
        "        \"Classical mechanics\": 4,\n",
        "        \"Sales-ops\": 5\n",
        "      }\n",
        "    }\n",
        "]"
      ],
      "metadata": {
        "id": "x859WCjBeKHK"
      },
      "execution_count": 3,
      "outputs": []
    },
    {
      "cell_type": "code",
      "source": [
        "observation = 0\n",
        "prior = np.array([0.5, 0.5]) # dummy example\n",
        "\n",
        "likelihood_dist = np.array([ [0.8, 0.2],\n",
        "                             [0.2, 0.8] ])\n",
        "\n",
        "def variational_free_energy(prior, likelihood_dist):\n",
        "\n",
        "  joint_prob = likelihood_dist * prior # element-wise product of the likelihood of each hidden state, given the observation, with the prior probability assigned to each hidden state\n",
        "  p_o = joint_prob.sum()\n",
        "\n",
        "  try:\n",
        "    posterior = joint_prob / p_o\n",
        "    surprise = -np.log(p_o)\n",
        "    return surprise.round(3)\n",
        "\n",
        "  except:\n",
        "    return None\n"
      ],
      "metadata": {
        "id": "qrAI5kC2eMjg"
      },
      "execution_count": 4,
      "outputs": []
    },
    {
      "cell_type": "code",
      "source": [
        "# App.py\n",
        "\n",
        "skill_rows = []\n",
        "for person in DAO_people:\n",
        "  matched_skills = {k : person['skills'][k] if k in person['skills'] else 0 for k in project['project_skills']}\n",
        "  skill_values = list(matched_skills.values())\n",
        "  skill_values.insert(0,person['name'])\n",
        "  skill_rows += [skill_values]  \n",
        "\n",
        "labels = ['Name']\n",
        "labels += [name for name in (project['project_skills'].keys())]\n",
        "df = pd.DataFrame(columns=[labels], data=skill_rows)\n",
        "\n",
        "df\n",
        "\n",
        "## Here's how people stack up against Project required skills"
      ],
      "metadata": {
        "colab": {
          "base_uri": "https://localhost:8080/",
          "height": 413
        },
        "id": "YUkE2k7meO00",
        "outputId": "9d316ab7-5c09-43c4-a6c6-63043343039c"
      },
      "execution_count": 5,
      "outputs": [
        {
          "output_type": "execute_result",
          "data": {
            "text/plain": [
              "       Name Python Cognitve modeling Statistics Probability  \\\n",
              "0     Aryan      2                 0          0           0   \n",
              "1      Amit      4                 5          5           4   \n",
              "2    Tushar      5                 0          0           0   \n",
              "3  Shashwat      1                 0          0           0   \n",
              "4  Shashwat      1                 0          0           0   \n",
              "5     Varun      1                 0          0           0   \n",
              "6     Dhruv      2                 0          0           0   \n",
              "7   Devansh      1                 0          0           0   \n",
              "8   Shikhar      0                 0          0           0   \n",
              "\n",
              "  Software packaging Research aptitude Machine learning  \n",
              "0                  3                 0                0  \n",
              "1                  3                 5                4  \n",
              "2                  5                 0                0  \n",
              "3                  3                 0                0  \n",
              "4                  3                 0                0  \n",
              "5                  4                 0                0  \n",
              "6                  0                 0                3  \n",
              "7                  0                 0                0  \n",
              "8                  0                 0                0  "
            ],
            "text/html": [
              "\n",
              "  <div id=\"df-9aea0d47-9436-483a-97c1-0e6f9f131665\">\n",
              "    <div class=\"colab-df-container\">\n",
              "      <div>\n",
              "<style scoped>\n",
              "    .dataframe tbody tr th:only-of-type {\n",
              "        vertical-align: middle;\n",
              "    }\n",
              "\n",
              "    .dataframe tbody tr th {\n",
              "        vertical-align: top;\n",
              "    }\n",
              "\n",
              "    .dataframe thead tr th {\n",
              "        text-align: left;\n",
              "    }\n",
              "</style>\n",
              "<table border=\"1\" class=\"dataframe\">\n",
              "  <thead>\n",
              "    <tr>\n",
              "      <th></th>\n",
              "      <th>Name</th>\n",
              "      <th>Python</th>\n",
              "      <th>Cognitve modeling</th>\n",
              "      <th>Statistics</th>\n",
              "      <th>Probability</th>\n",
              "      <th>Software packaging</th>\n",
              "      <th>Research aptitude</th>\n",
              "      <th>Machine learning</th>\n",
              "    </tr>\n",
              "  </thead>\n",
              "  <tbody>\n",
              "    <tr>\n",
              "      <th>0</th>\n",
              "      <td>Aryan</td>\n",
              "      <td>2</td>\n",
              "      <td>0</td>\n",
              "      <td>0</td>\n",
              "      <td>0</td>\n",
              "      <td>3</td>\n",
              "      <td>0</td>\n",
              "      <td>0</td>\n",
              "    </tr>\n",
              "    <tr>\n",
              "      <th>1</th>\n",
              "      <td>Amit</td>\n",
              "      <td>4</td>\n",
              "      <td>5</td>\n",
              "      <td>5</td>\n",
              "      <td>4</td>\n",
              "      <td>3</td>\n",
              "      <td>5</td>\n",
              "      <td>4</td>\n",
              "    </tr>\n",
              "    <tr>\n",
              "      <th>2</th>\n",
              "      <td>Tushar</td>\n",
              "      <td>5</td>\n",
              "      <td>0</td>\n",
              "      <td>0</td>\n",
              "      <td>0</td>\n",
              "      <td>5</td>\n",
              "      <td>0</td>\n",
              "      <td>0</td>\n",
              "    </tr>\n",
              "    <tr>\n",
              "      <th>3</th>\n",
              "      <td>Shashwat</td>\n",
              "      <td>1</td>\n",
              "      <td>0</td>\n",
              "      <td>0</td>\n",
              "      <td>0</td>\n",
              "      <td>3</td>\n",
              "      <td>0</td>\n",
              "      <td>0</td>\n",
              "    </tr>\n",
              "    <tr>\n",
              "      <th>4</th>\n",
              "      <td>Shashwat</td>\n",
              "      <td>1</td>\n",
              "      <td>0</td>\n",
              "      <td>0</td>\n",
              "      <td>0</td>\n",
              "      <td>3</td>\n",
              "      <td>0</td>\n",
              "      <td>0</td>\n",
              "    </tr>\n",
              "    <tr>\n",
              "      <th>5</th>\n",
              "      <td>Varun</td>\n",
              "      <td>1</td>\n",
              "      <td>0</td>\n",
              "      <td>0</td>\n",
              "      <td>0</td>\n",
              "      <td>4</td>\n",
              "      <td>0</td>\n",
              "      <td>0</td>\n",
              "    </tr>\n",
              "    <tr>\n",
              "      <th>6</th>\n",
              "      <td>Dhruv</td>\n",
              "      <td>2</td>\n",
              "      <td>0</td>\n",
              "      <td>0</td>\n",
              "      <td>0</td>\n",
              "      <td>0</td>\n",
              "      <td>0</td>\n",
              "      <td>3</td>\n",
              "    </tr>\n",
              "    <tr>\n",
              "      <th>7</th>\n",
              "      <td>Devansh</td>\n",
              "      <td>1</td>\n",
              "      <td>0</td>\n",
              "      <td>0</td>\n",
              "      <td>0</td>\n",
              "      <td>0</td>\n",
              "      <td>0</td>\n",
              "      <td>0</td>\n",
              "    </tr>\n",
              "    <tr>\n",
              "      <th>8</th>\n",
              "      <td>Shikhar</td>\n",
              "      <td>0</td>\n",
              "      <td>0</td>\n",
              "      <td>0</td>\n",
              "      <td>0</td>\n",
              "      <td>0</td>\n",
              "      <td>0</td>\n",
              "      <td>0</td>\n",
              "    </tr>\n",
              "  </tbody>\n",
              "</table>\n",
              "</div>\n",
              "      <button class=\"colab-df-convert\" onclick=\"convertToInteractive('df-9aea0d47-9436-483a-97c1-0e6f9f131665')\"\n",
              "              title=\"Convert this dataframe to an interactive table.\"\n",
              "              style=\"display:none;\">\n",
              "        \n",
              "  <svg xmlns=\"http://www.w3.org/2000/svg\" height=\"24px\"viewBox=\"0 0 24 24\"\n",
              "       width=\"24px\">\n",
              "    <path d=\"M0 0h24v24H0V0z\" fill=\"none\"/>\n",
              "    <path d=\"M18.56 5.44l.94 2.06.94-2.06 2.06-.94-2.06-.94-.94-2.06-.94 2.06-2.06.94zm-11 1L8.5 8.5l.94-2.06 2.06-.94-2.06-.94L8.5 2.5l-.94 2.06-2.06.94zm10 10l.94 2.06.94-2.06 2.06-.94-2.06-.94-.94-2.06-.94 2.06-2.06.94z\"/><path d=\"M17.41 7.96l-1.37-1.37c-.4-.4-.92-.59-1.43-.59-.52 0-1.04.2-1.43.59L10.3 9.45l-7.72 7.72c-.78.78-.78 2.05 0 2.83L4 21.41c.39.39.9.59 1.41.59.51 0 1.02-.2 1.41-.59l7.78-7.78 2.81-2.81c.8-.78.8-2.07 0-2.86zM5.41 20L4 18.59l7.72-7.72 1.47 1.35L5.41 20z\"/>\n",
              "  </svg>\n",
              "      </button>\n",
              "      \n",
              "  <style>\n",
              "    .colab-df-container {\n",
              "      display:flex;\n",
              "      flex-wrap:wrap;\n",
              "      gap: 12px;\n",
              "    }\n",
              "\n",
              "    .colab-df-convert {\n",
              "      background-color: #E8F0FE;\n",
              "      border: none;\n",
              "      border-radius: 50%;\n",
              "      cursor: pointer;\n",
              "      display: none;\n",
              "      fill: #1967D2;\n",
              "      height: 32px;\n",
              "      padding: 0 0 0 0;\n",
              "      width: 32px;\n",
              "    }\n",
              "\n",
              "    .colab-df-convert:hover {\n",
              "      background-color: #E2EBFA;\n",
              "      box-shadow: 0px 1px 2px rgba(60, 64, 67, 0.3), 0px 1px 3px 1px rgba(60, 64, 67, 0.15);\n",
              "      fill: #174EA6;\n",
              "    }\n",
              "\n",
              "    [theme=dark] .colab-df-convert {\n",
              "      background-color: #3B4455;\n",
              "      fill: #D2E3FC;\n",
              "    }\n",
              "\n",
              "    [theme=dark] .colab-df-convert:hover {\n",
              "      background-color: #434B5C;\n",
              "      box-shadow: 0px 1px 3px 1px rgba(0, 0, 0, 0.15);\n",
              "      filter: drop-shadow(0px 1px 2px rgba(0, 0, 0, 0.3));\n",
              "      fill: #FFFFFF;\n",
              "    }\n",
              "  </style>\n",
              "\n",
              "      <script>\n",
              "        const buttonEl =\n",
              "          document.querySelector('#df-9aea0d47-9436-483a-97c1-0e6f9f131665 button.colab-df-convert');\n",
              "        buttonEl.style.display =\n",
              "          google.colab.kernel.accessAllowed ? 'block' : 'none';\n",
              "\n",
              "        async function convertToInteractive(key) {\n",
              "          const element = document.querySelector('#df-9aea0d47-9436-483a-97c1-0e6f9f131665');\n",
              "          const dataTable =\n",
              "            await google.colab.kernel.invokeFunction('convertToInteractive',\n",
              "                                                     [key], {});\n",
              "          if (!dataTable) return;\n",
              "\n",
              "          const docLinkHtml = 'Like what you see? Visit the ' +\n",
              "            '<a target=\"_blank\" href=https://colab.research.google.com/notebooks/data_table.ipynb>data table notebook</a>'\n",
              "            + ' to learn more about interactive tables.';\n",
              "          element.innerHTML = '';\n",
              "          dataTable['output_type'] = 'display_data';\n",
              "          await google.colab.output.renderOutput(dataTable, element);\n",
              "          const docLink = document.createElement('div');\n",
              "          docLink.innerHTML = docLinkHtml;\n",
              "          element.appendChild(docLink);\n",
              "        }\n",
              "      </script>\n",
              "    </div>\n",
              "  </div>\n",
              "  "
            ]
          },
          "metadata": {},
          "execution_count": 5
        }
      ]
    },
    {
      "cell_type": "code",
      "source": [
        "prior = np.array(list(map(lambda element: element/5, list((project['project_skills'].values())))))\n",
        "\n",
        "FE_analysis = []\n",
        "FEs = {}\n",
        "for idx,person in df.iterrows():\n",
        "  likelihood = np.array(person.iloc[1:,]/5)\n",
        "  FE = variational_free_energy(prior, likelihood)\n",
        "  FEs[person['Name']] = FE\n",
        "\n",
        "  FE_results = {\"Name\": person['Name'], \"FE value\": FE, \"L matrix\": likelihood}\n",
        "  FE_analysis.append(FE_results)\n",
        "\n",
        "FE_analysis"
      ],
      "metadata": {
        "colab": {
          "base_uri": "https://localhost:8080/"
        },
        "id": "fNAThX4JeRHt",
        "outputId": "c9775c36-0a36-4575-ab37-1c8db10dfc48"
      },
      "execution_count": 6,
      "outputs": [
        {
          "output_type": "execute_result",
          "data": {
            "text/plain": [
              "[{'Name': 'Aryan',\n",
              "  'FE value': 0.386,\n",
              "  'L matrix': array([0.4, 0.0, 0.0, 0.0, 0.6, 0.0, 0.0], dtype=object)},\n",
              " {'Name': 'Amit',\n",
              "  'FE value': -1.509,\n",
              "  'L matrix': array([0.8, 1.0, 1.0, 0.8, 0.6, 1.0, 0.8], dtype=object)},\n",
              " {'Name': 'Tushar',\n",
              "  'FE value': -0.336,\n",
              "  'L matrix': array([1.0, 0.0, 0.0, 0.0, 1.0, 0.0, 0.0], dtype=object)},\n",
              " {'Name': 'Shashwat',\n",
              "  'FE value': 0.654,\n",
              "  'L matrix': array([0.2, 0.0, 0.0, 0.0, 0.6, 0.0, 0.0], dtype=object)},\n",
              " {'Name': 'Shashwat',\n",
              "  'FE value': 0.654,\n",
              "  'L matrix': array([0.2, 0.0, 0.0, 0.0, 0.6, 0.0, 0.0], dtype=object)},\n",
              " {'Name': 'Varun',\n",
              "  'FE value': 0.446,\n",
              "  'L matrix': array([0.2, 0.0, 0.0, 0.0, 0.8, 0.0, 0.0], dtype=object)},\n",
              " {'Name': 'Dhruv',\n",
              "  'FE value': 0.386,\n",
              "  'L matrix': array([0.4, 0.0, 0.0, 0.0, 0.0, 0.0, 0.6], dtype=object)},\n",
              " {'Name': 'Devansh',\n",
              "  'FE value': 1.833,\n",
              "  'L matrix': array([0.2, 0.0, 0.0, 0.0, 0.0, 0.0, 0.0], dtype=object)},\n",
              " {'Name': 'Shikhar',\n",
              "  'FE value': None,\n",
              "  'L matrix': array([0.0, 0.0, 0.0, 0.0, 0.0, 0.0, 0.0], dtype=object)}]"
            ]
          },
          "metadata": {},
          "execution_count": 6
        }
      ]
    },
    {
      "cell_type": "code",
      "source": [
        "FEs"
      ],
      "metadata": {
        "colab": {
          "base_uri": "https://localhost:8080/"
        },
        "id": "h9angXcOeRvB",
        "outputId": "6783abca-f750-415d-bed3-e1771984a325"
      },
      "execution_count": 7,
      "outputs": [
        {
          "output_type": "execute_result",
          "data": {
            "text/plain": [
              "{'Aryan': 0.386,\n",
              " 'Amit': -1.509,\n",
              " 'Tushar': -0.336,\n",
              " 'Shashwat': 0.654,\n",
              " 'Varun': 0.446,\n",
              " 'Dhruv': 0.386,\n",
              " 'Devansh': 1.833,\n",
              " 'Shikhar': None}"
            ]
          },
          "metadata": {},
          "execution_count": 7
        }
      ]
    },
    {
      "cell_type": "code",
      "source": [
        "# Removing None FE valued members (Sorry!)\n",
        "\n",
        "FEs = {k: v for k, v in FEs.items() if v is not None}"
      ],
      "metadata": {
        "id": "NzGAuzRpe8UM"
      },
      "execution_count": 9,
      "outputs": []
    },
    {
      "cell_type": "code",
      "source": [
        "x, y = zip(*FEs.items()) \n",
        "plt.plot(x, y)\n",
        "plt.xlabel(\"DAO members\")\n",
        "plt.ylabel(f\"Free Energy alignment with {project['name']}\")\n",
        "plt.text(-1, max(list(FEs.values()))+1, \"Lower the Free Energy, better the match!\", fontsize = 22)\n",
        "plt.show()\n",
        "\n",
        "## People with no FE (None in Python) will be excluded from the plot"
      ],
      "metadata": {
        "colab": {
          "base_uri": "https://localhost:8080/",
          "height": 345
        },
        "id": "FMpmCRPleR51",
        "outputId": "da39ae8d-8d2f-4edb-b100-b5a8b818c4c9"
      },
      "execution_count": 10,
      "outputs": [
        {
          "output_type": "display_data",
          "data": {
            "text/plain": [
              "<Figure size 432x288 with 1 Axes>"
            ],
            "image/png": "[encoded data removed]"
          },
          "metadata": {
            "needs_background": "light"
          }
        }
      ]
    },
    {
      "cell_type": "code",
      "source": [
        "# Selecting most aligned people with top_n paramters (int)\n",
        "\n",
        "def FE_threshold(FEs, top_n):\n",
        "  sorted_FEs = dict(sorted(FEs.items(), key=lambda item: item[1]))\n",
        "  top_n_people = {k: sorted_FEs[k] for k in list(sorted_FEs)[:top_n]}\n",
        "\n",
        "  return top_n_people\n",
        "\n",
        "WITHIN_GATE_PEOPLE = FE_threshold(FEs, 5)\n",
        "WITHIN_GATE_PEOPLE\n",
        "## Yay the squad is formed! Here are the members with their Free-Energies"
      ],
      "metadata": {
        "colab": {
          "base_uri": "https://localhost:8080/"
        },
        "id": "OicEfw9neX0j",
        "outputId": "b631b8d9-8940-49dd-ef46-447b2f503b3c"
      },
      "execution_count": 11,
      "outputs": [
        {
          "output_type": "execute_result",
          "data": {
            "text/plain": [
              "{'Amit': -1.509,\n",
              " 'Tushar': -0.336,\n",
              " 'Aryan': 0.386,\n",
              " 'Dhruv': 0.386,\n",
              " 'Varun': 0.446}"
            ]
          },
          "metadata": {},
          "execution_count": 11
        }
      ]
    },
    {
      "cell_type": "code",
      "source": [
        "# Defining Information theoritic KL divergence between two skill distributions in bits. This wil be useful later\n",
        "\n",
        "def get_KL(p_skills, q_skills):\n",
        "  # log(negative or 0) leads to -infinity, therefore replacing by infinitesimal values, \n",
        "  # this will change bit value slightly but all by constant degree, hence order will remain intact  \n",
        "  p_skills = np.where(p_skills > np.exp(-100), p_skills, np.exp(-10))\n",
        "  q_skills = np.where(q_skills > np.exp(-100), q_skills, np.exp(-10))\n",
        "\n",
        "  try:\n",
        "    return sum(p_skills[i] * np.log2(p_skills[i]/q_skills[i]) for i in range(len(p_skills)))\n",
        "\n",
        "  except:\n",
        "    return \"Not valid distribution(s). Try changing the values.\"\n",
        "\n",
        "get_KL(FE_analysis[0]['L matrix'], FE_analysis[1]['L matrix'])"
      ],
      "metadata": {
        "colab": {
          "base_uri": "https://localhost:8080/"
        },
        "id": "V_NuCw3neZX-",
        "outputId": "47fd84ab-39d3-4d75-eaae-f2a9bb844153"
      },
      "execution_count": 12,
      "outputs": [
        {
          "output_type": "execute_result",
          "data": {
            "text/plain": [
              "-0.40324568165045926"
            ]
          },
          "metadata": {},
          "execution_count": 12
        }
      ]
    },
    {
      "cell_type": "code",
      "source": [
        "# Defining Degree of symmetry between two vectors as their . product\n",
        "\n",
        "def get_symmetry(p_skills,q_skills, degree):\n",
        "  aligned = np.dot(p_skills,q_skills)\n",
        "  degree_of_symmetry = degree*aligned\n",
        "  return degree_of_symmetry\n",
        "\n",
        "get_symmetry(FE_analysis[3]['L matrix'], FE_analysis[-2]['L matrix'], 1)"
      ],
      "metadata": {
        "colab": {
          "base_uri": "https://localhost:8080/"
        },
        "id": "-qEe4HLOearH",
        "outputId": "c85cd4c4-1274-4152-f135-8ca533a10d71"
      },
      "execution_count": 13,
      "outputs": [
        {
          "output_type": "execute_result",
          "data": {
            "text/plain": [
              "0.04000000000000001"
            ]
          },
          "metadata": {},
          "execution_count": 13
        }
      ]
    },
    {
      "cell_type": "code",
      "source": [
        "# Finding partners / Forming sub-squads\n",
        "\n",
        "def find_partners(searchee_name, degree_of_symmetry):\n",
        "  searchee_skills = list(filter(lambda person: person['Name'] == searchee_name, FE_analysis))[0]['L matrix']\n",
        "\n",
        "  suited_partners = {}\n",
        "  for peep in FE_analysis:\n",
        "    if peep['FE value']!=None and peep['Name']!=searchee_name:\n",
        "      peep_skills = peep['L matrix']\n",
        "      \n",
        "      KL = get_KL(searchee_skills, peep_skills)\n",
        "      DOS = get_symmetry(searchee_skills, peep_skills, degree_of_symmetry)\n",
        "      \n",
        "      suited_partners[peep['Name']] = KL + DOS\n",
        "  return dict(sorted(suited_partners.items(), key=lambda item: item[1]))\n",
        "\n",
        "find_partners('Aryan',1) "
      ],
      "metadata": {
        "colab": {
          "base_uri": "https://localhost:8080/"
        },
        "id": "egA188lPebw0",
        "outputId": "4d2c7af1-aa3c-4be3-9127-4f16371eee6b"
      },
      "execution_count": 14,
      "outputs": [
        {
          "output_type": "execute_result",
          "data": {
            "text/plain": [
              "{'Tushar': 0.02904940554533142,\n",
              " 'Amit': 0.2767543183495408,\n",
              " 'Varun': 0.7109775004326937,\n",
              " 'Shashwat': 0.8400000000000001,\n",
              " 'Dhruv': 8.373369364485018,\n",
              " 'Devansh': 8.693990888834056}"
            ]
          },
          "metadata": {},
          "execution_count": 14
        }
      ]
    },
    {
      "cell_type": "markdown",
      "source": [
        "# Misc"
      ],
      "metadata": {
        "id": "Fs0G2KEieedl"
      }
    },
    {
      "cell_type": "code",
      "source": [
        "## Better way to print matrices (Taken from original PyMDP implementation)\n",
        "\n",
        "def matprint(mat, fmt=\"g\"):\n",
        "    col_maxes = [max([len((\"{:\"+fmt+\"}\").format(x)) for x in col]) for col in mat.T]\n",
        "    for x in mat:\n",
        "        for i, y in enumerate(x):\n",
        "            print((\"{:\"+str(col_maxes[i])+fmt+\"}\").format(y), end=\"  \")\n",
        "        print(\"\")\n",
        "\n"
      ],
      "metadata": {
        "id": "r2TC8tHWefZP"
      },
      "execution_count": null,
      "outputs": []
    },
    {
      "cell_type": "code",
      "source": [
        "observation = 0\n",
        "\n",
        "prior = np.array([0.5, 0.5]) # simply set it by hand\n",
        "\n",
        "likelihood_dist = np.array([ [0.8, 0.2],\n",
        "                        [0.2, 0.8] ])\n",
        "likelihood_s = likelihood_dist[observation,:] \n",
        "\n",
        "joint_prob = likelihood_s * prior # element-wise product of the likelihood of each hidden state, given the observation, with the prior probability assigned to each hidden state\n",
        "p_o = joint_prob.sum()\n",
        "posterior = joint_prob / p_o\n",
        "surprise = - np.log(p_o)\n",
        "\n",
        "\n",
        "print(f'Observation:{observation}\\n')\n",
        "print(f'Prior:{prior}\\n')\n",
        "print('Likelihood:')\n",
        "matprint(likelihood_dist)"
      ],
      "metadata": {
        "id": "KceAlWhpehCr"
      },
      "execution_count": null,
      "outputs": []
    }
  ],
  "metadata": {
    "kernelspec": {
      "display_name": "Python 3.7.10 ('pymdp_env')",
      "language": "python",
      "name": "python3"
    },
    "language_info": {
      "codemirror_mode": {
        "name": "ipython",
        "version": 3
      },
      "file_extension": ".py",
      "mimetype": "text/x-python",
      "name": "python",
      "nbconvert_exporter": "python",
      "pygments_lexer": "ipython3",
      "version": "3.7.10"
    },
    "vscode": {
      "interpreter": {
        "hash": "43ee964e2ad3601b7244370fb08e7f23a81bd2f0e3c87ee41227da88c57ff102"
      }
    },
    "colab": {
      "provenance": []
    }
  },
  "nbformat": 4,
  "nbformat_minor": 0
}